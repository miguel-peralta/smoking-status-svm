{
  "cells": [
    {
      "cell_type": "markdown",
      "metadata": {
        "id": "e_g99ArDicsy"
      },
      "source": [
        "# Predicting Smoking Status Using Biosignal Data and SVM\n",
        "ISTA 431 Final Project\\\n",
        "Author: Miguel Candido Aurora Peralta"
      ]
    },
    {
      "cell_type": "markdown",
      "metadata": {
        "id": "g9dqz6Whictl"
      },
      "source": [
        "## Data Source\n",
        "[https://www.kaggle.com/datasets/gauravduttakiit/smoker-status-prediction-using-biosignals](https://www.kaggle.com/datasets/gauravduttakiit/smoker-status-prediction-using-biosignals)\n",
        "\n",
        "The data from Kaggle consists of two csv files, `test_dataset.csv` and `train_dataset.csv`. The training dataset contains the column `smoking` which indicates the smoking status of the individuals, while the test set does not, so I will only be using `train_dataset.csv` file for the purpose of this project."
      ]
    },
    {
      "cell_type": "code",
      "execution_count": null,
      "metadata": {
        "id": "5SidbGRpict1"
      },
      "outputs": [],
      "source": [
        "import pandas as pd\n",
        "import numpy as np\n",
        "\n",
        "df = pd.read_csv(\"train_dataset.csv\")"
      ]
    },
    {
      "cell_type": "code",
      "execution_count": null,
      "metadata": {
        "id": "_0PnnnhLicuA",
        "outputId": "998867b1-735a-49d8-fa95-2e58827dc035"
      },
      "outputs": [
        {
          "data": {
            "text/plain": [
              "Index(['age', 'height(cm)', 'weight(kg)', 'waist(cm)', 'eyesight(left)',\n",
              "       'eyesight(right)', 'hearing(left)', 'hearing(right)', 'systolic',\n",
              "       'relaxation', 'fasting blood sugar', 'Cholesterol', 'triglyceride',\n",
              "       'HDL', 'LDL', 'hemoglobin', 'Urine protein', 'serum creatinine', 'AST',\n",
              "       'ALT', 'Gtp', 'dental caries', 'smoking'],\n",
              "      dtype='object')"
            ]
          },
          "metadata": {},
          "output_type": "display_data"
        }
      ],
      "source": [
        "display(df.columns)"
      ]
    },
    {
      "cell_type": "code",
      "execution_count": null,
      "metadata": {
        "id": "X6dpJ2EKicuL",
        "outputId": "385683a0-24ee-49bf-8e9c-e6cea964c3e3"
      },
      "outputs": [
        {
          "name": "stdout",
          "output_type": "stream",
          "text": [
            "Rows: 38984\n"
          ]
        }
      ],
      "source": [
        "print(f\"Rows: {len(df.index)}\")"
      ]
    },
    {
      "cell_type": "code",
      "execution_count": null,
      "metadata": {
        "id": "qThVWXt9icuX",
        "outputId": "09003500-3085-41a1-bb53-3581381f3382"
      },
      "outputs": [
        {
          "data": {
            "text/html": [
              "<div>\n",
              "<style scoped>\n",
              "    .dataframe tbody tr th:only-of-type {\n",
              "        vertical-align: middle;\n",
              "    }\n",
              "\n",
              "    .dataframe tbody tr th {\n",
              "        vertical-align: top;\n",
              "    }\n",
              "\n",
              "    .dataframe thead th {\n",
              "        text-align: right;\n",
              "    }\n",
              "</style>\n",
              "<table border=\"1\" class=\"dataframe\">\n",
              "  <thead>\n",
              "    <tr style=\"text-align: right;\">\n",
              "      <th></th>\n",
              "      <th>age</th>\n",
              "      <th>height(cm)</th>\n",
              "      <th>weight(kg)</th>\n",
              "      <th>waist(cm)</th>\n",
              "      <th>eyesight(left)</th>\n",
              "      <th>eyesight(right)</th>\n",
              "      <th>hearing(left)</th>\n",
              "      <th>hearing(right)</th>\n",
              "      <th>systolic</th>\n",
              "      <th>relaxation</th>\n",
              "      <th>...</th>\n",
              "      <th>HDL</th>\n",
              "      <th>LDL</th>\n",
              "      <th>hemoglobin</th>\n",
              "      <th>Urine protein</th>\n",
              "      <th>serum creatinine</th>\n",
              "      <th>AST</th>\n",
              "      <th>ALT</th>\n",
              "      <th>Gtp</th>\n",
              "      <th>dental caries</th>\n",
              "      <th>smoking</th>\n",
              "    </tr>\n",
              "  </thead>\n",
              "  <tbody>\n",
              "    <tr>\n",
              "      <th>count</th>\n",
              "      <td>38984.000000</td>\n",
              "      <td>38984.000000</td>\n",
              "      <td>38984.000000</td>\n",
              "      <td>38984.000000</td>\n",
              "      <td>38984.000000</td>\n",
              "      <td>38984.000000</td>\n",
              "      <td>38984.000000</td>\n",
              "      <td>38984.000000</td>\n",
              "      <td>38984.000000</td>\n",
              "      <td>38984.000000</td>\n",
              "      <td>...</td>\n",
              "      <td>38984.000000</td>\n",
              "      <td>38984.000000</td>\n",
              "      <td>38984.000000</td>\n",
              "      <td>38984.000000</td>\n",
              "      <td>38984.000000</td>\n",
              "      <td>38984.000000</td>\n",
              "      <td>38984.000000</td>\n",
              "      <td>38984.000000</td>\n",
              "      <td>38984.000000</td>\n",
              "      <td>38984.000000</td>\n",
              "    </tr>\n",
              "    <tr>\n",
              "      <th>mean</th>\n",
              "      <td>44.127591</td>\n",
              "      <td>164.689488</td>\n",
              "      <td>65.938718</td>\n",
              "      <td>82.062115</td>\n",
              "      <td>1.014955</td>\n",
              "      <td>1.008768</td>\n",
              "      <td>1.025369</td>\n",
              "      <td>1.026190</td>\n",
              "      <td>121.475631</td>\n",
              "      <td>75.994408</td>\n",
              "      <td>...</td>\n",
              "      <td>57.293146</td>\n",
              "      <td>115.081495</td>\n",
              "      <td>14.624264</td>\n",
              "      <td>1.086523</td>\n",
              "      <td>0.886030</td>\n",
              "      <td>26.198235</td>\n",
              "      <td>27.145188</td>\n",
              "      <td>39.905038</td>\n",
              "      <td>0.214421</td>\n",
              "      <td>0.367279</td>\n",
              "    </tr>\n",
              "    <tr>\n",
              "      <th>std</th>\n",
              "      <td>12.063564</td>\n",
              "      <td>9.187507</td>\n",
              "      <td>12.896581</td>\n",
              "      <td>9.326798</td>\n",
              "      <td>0.498527</td>\n",
              "      <td>0.493813</td>\n",
              "      <td>0.157246</td>\n",
              "      <td>0.159703</td>\n",
              "      <td>13.643521</td>\n",
              "      <td>9.658734</td>\n",
              "      <td>...</td>\n",
              "      <td>14.617822</td>\n",
              "      <td>42.883163</td>\n",
              "      <td>1.566528</td>\n",
              "      <td>0.402107</td>\n",
              "      <td>0.220621</td>\n",
              "      <td>19.175595</td>\n",
              "      <td>31.309945</td>\n",
              "      <td>49.693843</td>\n",
              "      <td>0.410426</td>\n",
              "      <td>0.482070</td>\n",
              "    </tr>\n",
              "    <tr>\n",
              "      <th>min</th>\n",
              "      <td>20.000000</td>\n",
              "      <td>130.000000</td>\n",
              "      <td>30.000000</td>\n",
              "      <td>51.000000</td>\n",
              "      <td>0.100000</td>\n",
              "      <td>0.100000</td>\n",
              "      <td>1.000000</td>\n",
              "      <td>1.000000</td>\n",
              "      <td>71.000000</td>\n",
              "      <td>40.000000</td>\n",
              "      <td>...</td>\n",
              "      <td>4.000000</td>\n",
              "      <td>1.000000</td>\n",
              "      <td>4.900000</td>\n",
              "      <td>1.000000</td>\n",
              "      <td>0.100000</td>\n",
              "      <td>6.000000</td>\n",
              "      <td>1.000000</td>\n",
              "      <td>2.000000</td>\n",
              "      <td>0.000000</td>\n",
              "      <td>0.000000</td>\n",
              "    </tr>\n",
              "    <tr>\n",
              "      <th>25%</th>\n",
              "      <td>40.000000</td>\n",
              "      <td>160.000000</td>\n",
              "      <td>55.000000</td>\n",
              "      <td>76.000000</td>\n",
              "      <td>0.800000</td>\n",
              "      <td>0.800000</td>\n",
              "      <td>1.000000</td>\n",
              "      <td>1.000000</td>\n",
              "      <td>112.000000</td>\n",
              "      <td>70.000000</td>\n",
              "      <td>...</td>\n",
              "      <td>47.000000</td>\n",
              "      <td>91.000000</td>\n",
              "      <td>13.600000</td>\n",
              "      <td>1.000000</td>\n",
              "      <td>0.800000</td>\n",
              "      <td>19.000000</td>\n",
              "      <td>15.000000</td>\n",
              "      <td>17.000000</td>\n",
              "      <td>0.000000</td>\n",
              "      <td>0.000000</td>\n",
              "    </tr>\n",
              "    <tr>\n",
              "      <th>50%</th>\n",
              "      <td>40.000000</td>\n",
              "      <td>165.000000</td>\n",
              "      <td>65.000000</td>\n",
              "      <td>82.000000</td>\n",
              "      <td>1.000000</td>\n",
              "      <td>1.000000</td>\n",
              "      <td>1.000000</td>\n",
              "      <td>1.000000</td>\n",
              "      <td>120.000000</td>\n",
              "      <td>76.000000</td>\n",
              "      <td>...</td>\n",
              "      <td>55.000000</td>\n",
              "      <td>113.000000</td>\n",
              "      <td>14.800000</td>\n",
              "      <td>1.000000</td>\n",
              "      <td>0.900000</td>\n",
              "      <td>23.000000</td>\n",
              "      <td>21.000000</td>\n",
              "      <td>26.000000</td>\n",
              "      <td>0.000000</td>\n",
              "      <td>0.000000</td>\n",
              "    </tr>\n",
              "    <tr>\n",
              "      <th>75%</th>\n",
              "      <td>55.000000</td>\n",
              "      <td>170.000000</td>\n",
              "      <td>75.000000</td>\n",
              "      <td>88.000000</td>\n",
              "      <td>1.200000</td>\n",
              "      <td>1.200000</td>\n",
              "      <td>1.000000</td>\n",
              "      <td>1.000000</td>\n",
              "      <td>130.000000</td>\n",
              "      <td>82.000000</td>\n",
              "      <td>...</td>\n",
              "      <td>66.000000</td>\n",
              "      <td>136.000000</td>\n",
              "      <td>15.800000</td>\n",
              "      <td>1.000000</td>\n",
              "      <td>1.000000</td>\n",
              "      <td>29.000000</td>\n",
              "      <td>31.000000</td>\n",
              "      <td>44.000000</td>\n",
              "      <td>0.000000</td>\n",
              "      <td>1.000000</td>\n",
              "    </tr>\n",
              "    <tr>\n",
              "      <th>max</th>\n",
              "      <td>85.000000</td>\n",
              "      <td>190.000000</td>\n",
              "      <td>135.000000</td>\n",
              "      <td>129.000000</td>\n",
              "      <td>9.900000</td>\n",
              "      <td>9.900000</td>\n",
              "      <td>2.000000</td>\n",
              "      <td>2.000000</td>\n",
              "      <td>233.000000</td>\n",
              "      <td>146.000000</td>\n",
              "      <td>...</td>\n",
              "      <td>359.000000</td>\n",
              "      <td>1860.000000</td>\n",
              "      <td>21.100000</td>\n",
              "      <td>6.000000</td>\n",
              "      <td>11.600000</td>\n",
              "      <td>1090.000000</td>\n",
              "      <td>2914.000000</td>\n",
              "      <td>999.000000</td>\n",
              "      <td>1.000000</td>\n",
              "      <td>1.000000</td>\n",
              "    </tr>\n",
              "  </tbody>\n",
              "</table>\n",
              "<p>8 rows × 23 columns</p>\n",
              "</div>"
            ],
            "text/plain": [
              "                age    height(cm)    weight(kg)     waist(cm)  eyesight(left)  \\\n",
              "count  38984.000000  38984.000000  38984.000000  38984.000000    38984.000000   \n",
              "mean      44.127591    164.689488     65.938718     82.062115        1.014955   \n",
              "std       12.063564      9.187507     12.896581      9.326798        0.498527   \n",
              "min       20.000000    130.000000     30.000000     51.000000        0.100000   \n",
              "25%       40.000000    160.000000     55.000000     76.000000        0.800000   \n",
              "50%       40.000000    165.000000     65.000000     82.000000        1.000000   \n",
              "75%       55.000000    170.000000     75.000000     88.000000        1.200000   \n",
              "max       85.000000    190.000000    135.000000    129.000000        9.900000   \n",
              "\n",
              "       eyesight(right)  hearing(left)  hearing(right)      systolic  \\\n",
              "count     38984.000000   38984.000000    38984.000000  38984.000000   \n",
              "mean          1.008768       1.025369        1.026190    121.475631   \n",
              "std           0.493813       0.157246        0.159703     13.643521   \n",
              "min           0.100000       1.000000        1.000000     71.000000   \n",
              "25%           0.800000       1.000000        1.000000    112.000000   \n",
              "50%           1.000000       1.000000        1.000000    120.000000   \n",
              "75%           1.200000       1.000000        1.000000    130.000000   \n",
              "max           9.900000       2.000000        2.000000    233.000000   \n",
              "\n",
              "         relaxation  ...           HDL           LDL    hemoglobin  \\\n",
              "count  38984.000000  ...  38984.000000  38984.000000  38984.000000   \n",
              "mean      75.994408  ...     57.293146    115.081495     14.624264   \n",
              "std        9.658734  ...     14.617822     42.883163      1.566528   \n",
              "min       40.000000  ...      4.000000      1.000000      4.900000   \n",
              "25%       70.000000  ...     47.000000     91.000000     13.600000   \n",
              "50%       76.000000  ...     55.000000    113.000000     14.800000   \n",
              "75%       82.000000  ...     66.000000    136.000000     15.800000   \n",
              "max      146.000000  ...    359.000000   1860.000000     21.100000   \n",
              "\n",
              "       Urine protein  serum creatinine           AST           ALT  \\\n",
              "count   38984.000000      38984.000000  38984.000000  38984.000000   \n",
              "mean        1.086523          0.886030     26.198235     27.145188   \n",
              "std         0.402107          0.220621     19.175595     31.309945   \n",
              "min         1.000000          0.100000      6.000000      1.000000   \n",
              "25%         1.000000          0.800000     19.000000     15.000000   \n",
              "50%         1.000000          0.900000     23.000000     21.000000   \n",
              "75%         1.000000          1.000000     29.000000     31.000000   \n",
              "max         6.000000         11.600000   1090.000000   2914.000000   \n",
              "\n",
              "                Gtp  dental caries       smoking  \n",
              "count  38984.000000   38984.000000  38984.000000  \n",
              "mean      39.905038       0.214421      0.367279  \n",
              "std       49.693843       0.410426      0.482070  \n",
              "min        2.000000       0.000000      0.000000  \n",
              "25%       17.000000       0.000000      0.000000  \n",
              "50%       26.000000       0.000000      0.000000  \n",
              "75%       44.000000       0.000000      1.000000  \n",
              "max      999.000000       1.000000      1.000000  \n",
              "\n",
              "[8 rows x 23 columns]"
            ]
          },
          "execution_count": 23,
          "metadata": {},
          "output_type": "execute_result"
        }
      ],
      "source": [
        "df.describe()"
      ]
    },
    {
      "cell_type": "markdown",
      "metadata": {
        "id": "vtvBoKtBicum"
      },
      "source": [
        "## Features"
      ]
    },
    {
      "cell_type": "markdown",
      "metadata": {
        "id": "NBmFfcF6icus"
      },
      "source": [
        "|Feature|Description|\n",
        "|---|---|\n",
        "|age|In 5 year increments|\n",
        "|height(cm)|In 5cm increments|\n",
        "|weight(kg)|In 5kg increments|\n",
        "|waist(cm)|Waist circumference|\n",
        "|eyesight(left) and eyesight(right)|From 0.1 to 2.0 (higher indicates better vision), but blindness is indicated by 9.9|\n",
        "|hearing(left) and hearing(right)|1 is normal and 2 is abnormal|\n",
        "|systolic|Blood pressure measurement when heart is contracting|\n",
        "|relaxation|Blood pressure measurement when heart is relaxed, aka diastolic blood pressure|\n",
        "|fasting blood sugar|Amount of glucose in blood when fasting (when it should be lowest)|\n",
        "|Cholesterol|This figure is calculated as HDL+LDL+(0.2*triglyceride)|\n",
        "|triglyceride|Amount of lipid in the blood.|\n",
        "|HDL|High-density lipoprotein cholesterol level.|\n",
        "|LDL|Low-density lipoprotein cholesterol level.|\n",
        "|hemoglobin|Hemoglobin level in blood.|\n",
        "|Urine protein|Level of protein in urine.|\n",
        "|serum creatinine|Serum creatinine level.|\n",
        "|AST|Level of aspartate aminotransferase enzyme.|\n",
        "|ALT|evel of alanine aminotransferase enzyme.|\n",
        "|Gtp|Level of gamma-glutamyl transpeptidase enzyme.|\n",
        "|dental caries|Presence of dental cavities. 0 means they are absent, 1 means they are present|\n"
      ]
    },
    {
      "cell_type": "markdown",
      "metadata": {
        "id": "3bYy7Ds2icu3"
      },
      "source": [
        "## Preprocessing"
      ]
    },
    {
      "cell_type": "markdown",
      "metadata": {
        "id": "rf7CUw6SicvE"
      },
      "source": [
        "The 9.9 values for eyesight can be converted to zeroes to fit with the format of 0.1 to 2.0, with higher values indicating better vision. <br><br>\n",
        "The cholesterol column can be dropped as it is calculated from the existing HDL, LDL, and triglyceride values."
      ]
    },
    {
      "cell_type": "code",
      "execution_count": null,
      "metadata": {
        "id": "lJzwAbqgicvL"
      },
      "outputs": [],
      "source": [
        "df['eyesight(left)'].replace({9.9:0}, inplace=True)\n",
        "df['eyesight(right)'].replace({9.9:0}, inplace=True)\n",
        "\n",
        "df.drop(['Cholesterol'], axis=1, inplace=True)\n"
      ]
    },
    {
      "cell_type": "markdown",
      "metadata": {
        "id": "xaSKm6bNicvg"
      },
      "source": [
        "## Train, Validation, and Test Splits"
      ]
    },
    {
      "cell_type": "code",
      "execution_count": null,
      "metadata": {
        "id": "joPpp3C7icvk"
      },
      "outputs": [],
      "source": [
        "from sklearn import model_selection, preprocessing\n",
        "\n",
        "X = df.drop([\"smoking\"], axis=1)\n",
        "y = df[\"smoking\"]\n",
        "\n",
        "# Standardizing features\n",
        "scaler = preprocessing.StandardScaler()\n",
        "X = scaler.fit_transform(X)\n",
        "\n",
        "X_train, X_test, y_train, y_test = model_selection.train_test_split(X, y, test_size=0.2)"
      ]
    },
    {
      "cell_type": "markdown",
      "metadata": {
        "id": "e-aszRVPicvr"
      },
      "source": [
        "## Initial model training\n",
        "The SVM model will be trained initially with the `linear` kernel. The kernel is a hyperparameter that can be fine-tuned after evaluating the performance to see if better results can be achieved with a different option."
      ]
    },
    {
      "cell_type": "code",
      "execution_count": 24,
      "metadata": {
        "colab": {
          "base_uri": "https://localhost:8080/",
          "height": 75
        },
        "id": "P_6VFs53icvu",
        "outputId": "c51ceff7-407c-48a3-c019-6c192f05427b"
      },
      "outputs": [
        {
          "output_type": "execute_result",
          "data": {
            "text/plain": [
              "SVC(kernel='linear')"
            ],
            "text/html": [
              "<style>#sk-container-id-4 {color: black;background-color: white;}#sk-container-id-4 pre{padding: 0;}#sk-container-id-4 div.sk-toggleable {background-color: white;}#sk-container-id-4 label.sk-toggleable__label {cursor: pointer;display: block;width: 100%;margin-bottom: 0;padding: 0.3em;box-sizing: border-box;text-align: center;}#sk-container-id-4 label.sk-toggleable__label-arrow:before {content: \"▸\";float: left;margin-right: 0.25em;color: #696969;}#sk-container-id-4 label.sk-toggleable__label-arrow:hover:before {color: black;}#sk-container-id-4 div.sk-estimator:hover label.sk-toggleable__label-arrow:before {color: black;}#sk-container-id-4 div.sk-toggleable__content {max-height: 0;max-width: 0;overflow: hidden;text-align: left;background-color: #f0f8ff;}#sk-container-id-4 div.sk-toggleable__content pre {margin: 0.2em;color: black;border-radius: 0.25em;background-color: #f0f8ff;}#sk-container-id-4 input.sk-toggleable__control:checked~div.sk-toggleable__content {max-height: 200px;max-width: 100%;overflow: auto;}#sk-container-id-4 input.sk-toggleable__control:checked~label.sk-toggleable__label-arrow:before {content: \"▾\";}#sk-container-id-4 div.sk-estimator input.sk-toggleable__control:checked~label.sk-toggleable__label {background-color: #d4ebff;}#sk-container-id-4 div.sk-label input.sk-toggleable__control:checked~label.sk-toggleable__label {background-color: #d4ebff;}#sk-container-id-4 input.sk-hidden--visually {border: 0;clip: rect(1px 1px 1px 1px);clip: rect(1px, 1px, 1px, 1px);height: 1px;margin: -1px;overflow: hidden;padding: 0;position: absolute;width: 1px;}#sk-container-id-4 div.sk-estimator {font-family: monospace;background-color: #f0f8ff;border: 1px dotted black;border-radius: 0.25em;box-sizing: border-box;margin-bottom: 0.5em;}#sk-container-id-4 div.sk-estimator:hover {background-color: #d4ebff;}#sk-container-id-4 div.sk-parallel-item::after {content: \"\";width: 100%;border-bottom: 1px solid gray;flex-grow: 1;}#sk-container-id-4 div.sk-label:hover label.sk-toggleable__label {background-color: #d4ebff;}#sk-container-id-4 div.sk-serial::before {content: \"\";position: absolute;border-left: 1px solid gray;box-sizing: border-box;top: 0;bottom: 0;left: 50%;z-index: 0;}#sk-container-id-4 div.sk-serial {display: flex;flex-direction: column;align-items: center;background-color: white;padding-right: 0.2em;padding-left: 0.2em;position: relative;}#sk-container-id-4 div.sk-item {position: relative;z-index: 1;}#sk-container-id-4 div.sk-parallel {display: flex;align-items: stretch;justify-content: center;background-color: white;position: relative;}#sk-container-id-4 div.sk-item::before, #sk-container-id-4 div.sk-parallel-item::before {content: \"\";position: absolute;border-left: 1px solid gray;box-sizing: border-box;top: 0;bottom: 0;left: 50%;z-index: -1;}#sk-container-id-4 div.sk-parallel-item {display: flex;flex-direction: column;z-index: 1;position: relative;background-color: white;}#sk-container-id-4 div.sk-parallel-item:first-child::after {align-self: flex-end;width: 50%;}#sk-container-id-4 div.sk-parallel-item:last-child::after {align-self: flex-start;width: 50%;}#sk-container-id-4 div.sk-parallel-item:only-child::after {width: 0;}#sk-container-id-4 div.sk-dashed-wrapped {border: 1px dashed gray;margin: 0 0.4em 0.5em 0.4em;box-sizing: border-box;padding-bottom: 0.4em;background-color: white;}#sk-container-id-4 div.sk-label label {font-family: monospace;font-weight: bold;display: inline-block;line-height: 1.2em;}#sk-container-id-4 div.sk-label-container {text-align: center;}#sk-container-id-4 div.sk-container {/* jupyter's `normalize.less` sets `[hidden] { display: none; }` but bootstrap.min.css set `[hidden] { display: none !important; }` so we also need the `!important` here to be able to override the default hidden behavior on the sphinx rendered scikit-learn.org. See: https://github.com/scikit-learn/scikit-learn/issues/21755 */display: inline-block !important;position: relative;}#sk-container-id-4 div.sk-text-repr-fallback {display: none;}</style><div id=\"sk-container-id-4\" class=\"sk-top-container\"><div class=\"sk-text-repr-fallback\"><pre>SVC(kernel=&#x27;linear&#x27;)</pre><b>In a Jupyter environment, please rerun this cell to show the HTML representation or trust the notebook. <br />On GitHub, the HTML representation is unable to render, please try loading this page with nbviewer.org.</b></div><div class=\"sk-container\" hidden><div class=\"sk-item\"><div class=\"sk-estimator sk-toggleable\"><input class=\"sk-toggleable__control sk-hidden--visually\" id=\"sk-estimator-id-4\" type=\"checkbox\" checked><label for=\"sk-estimator-id-4\" class=\"sk-toggleable__label sk-toggleable__label-arrow\">SVC</label><div class=\"sk-toggleable__content\"><pre>SVC(kernel=&#x27;linear&#x27;)</pre></div></div></div></div></div>"
            ]
          },
          "metadata": {},
          "execution_count": 24
        }
      ],
      "source": [
        "from sklearn.svm import SVC\n",
        "from sklearn.model_selection import cross_val_score\n",
        "\n",
        "clf = SVC(kernel=\"linear\")\n",
        "clf.fit(X_train, y_train)"
      ]
    },
    {
      "cell_type": "markdown",
      "source": [
        "K-fold cross validation with 5 folds is performed on the model to evaluate its performance. The mean of the test scores for all 5 folds is the score for the model."
      ],
      "metadata": {
        "id": "PJ5iW92fleov"
      }
    },
    {
      "cell_type": "code",
      "source": [
        "eval = cross_val_score(clf, X_train, y_train, cv=5)"
      ],
      "metadata": {
        "id": "ErQhmUbdi3xt"
      },
      "execution_count": 25,
      "outputs": []
    },
    {
      "cell_type": "code",
      "source": [
        "eval.mean()"
      ],
      "metadata": {
        "colab": {
          "base_uri": "https://localhost:8080/"
        },
        "id": "ayDPcshci3f4",
        "outputId": "a8f52c1f-4d79-47d4-c146-d15526ad635e"
      },
      "execution_count": 27,
      "outputs": [
        {
          "output_type": "execute_result",
          "data": {
            "text/plain": [
              "0.7311055562418178"
            ]
          },
          "metadata": {},
          "execution_count": 27
        }
      ]
    },
    {
      "cell_type": "markdown",
      "metadata": {
        "id": "GeHvO6MPicvw"
      },
      "source": [
        "## Fine-tuning kernel\n",
        "Another kernel may get better performance when evaluated using k-fold cross validation. I will also train the model using the `rbf` and `sigmoid` kernels and evaluate them to compare."
      ]
    },
    {
      "cell_type": "code",
      "source": [
        "clf_rbf = SVC(kernel=\"rbf\")\n",
        "clf_rbf.fit(X_train, y_train)"
      ],
      "metadata": {
        "id": "aJrphQRKl5Yg",
        "outputId": "b9629fb5-1098-4ddd-9aa8-34806183f60d",
        "colab": {
          "base_uri": "https://localhost:8080/",
          "height": 75
        }
      },
      "execution_count": 29,
      "outputs": [
        {
          "output_type": "execute_result",
          "data": {
            "text/plain": [
              "SVC()"
            ],
            "text/html": [
              "<style>#sk-container-id-5 {color: black;background-color: white;}#sk-container-id-5 pre{padding: 0;}#sk-container-id-5 div.sk-toggleable {background-color: white;}#sk-container-id-5 label.sk-toggleable__label {cursor: pointer;display: block;width: 100%;margin-bottom: 0;padding: 0.3em;box-sizing: border-box;text-align: center;}#sk-container-id-5 label.sk-toggleable__label-arrow:before {content: \"▸\";float: left;margin-right: 0.25em;color: #696969;}#sk-container-id-5 label.sk-toggleable__label-arrow:hover:before {color: black;}#sk-container-id-5 div.sk-estimator:hover label.sk-toggleable__label-arrow:before {color: black;}#sk-container-id-5 div.sk-toggleable__content {max-height: 0;max-width: 0;overflow: hidden;text-align: left;background-color: #f0f8ff;}#sk-container-id-5 div.sk-toggleable__content pre {margin: 0.2em;color: black;border-radius: 0.25em;background-color: #f0f8ff;}#sk-container-id-5 input.sk-toggleable__control:checked~div.sk-toggleable__content {max-height: 200px;max-width: 100%;overflow: auto;}#sk-container-id-5 input.sk-toggleable__control:checked~label.sk-toggleable__label-arrow:before {content: \"▾\";}#sk-container-id-5 div.sk-estimator input.sk-toggleable__control:checked~label.sk-toggleable__label {background-color: #d4ebff;}#sk-container-id-5 div.sk-label input.sk-toggleable__control:checked~label.sk-toggleable__label {background-color: #d4ebff;}#sk-container-id-5 input.sk-hidden--visually {border: 0;clip: rect(1px 1px 1px 1px);clip: rect(1px, 1px, 1px, 1px);height: 1px;margin: -1px;overflow: hidden;padding: 0;position: absolute;width: 1px;}#sk-container-id-5 div.sk-estimator {font-family: monospace;background-color: #f0f8ff;border: 1px dotted black;border-radius: 0.25em;box-sizing: border-box;margin-bottom: 0.5em;}#sk-container-id-5 div.sk-estimator:hover {background-color: #d4ebff;}#sk-container-id-5 div.sk-parallel-item::after {content: \"\";width: 100%;border-bottom: 1px solid gray;flex-grow: 1;}#sk-container-id-5 div.sk-label:hover label.sk-toggleable__label {background-color: #d4ebff;}#sk-container-id-5 div.sk-serial::before {content: \"\";position: absolute;border-left: 1px solid gray;box-sizing: border-box;top: 0;bottom: 0;left: 50%;z-index: 0;}#sk-container-id-5 div.sk-serial {display: flex;flex-direction: column;align-items: center;background-color: white;padding-right: 0.2em;padding-left: 0.2em;position: relative;}#sk-container-id-5 div.sk-item {position: relative;z-index: 1;}#sk-container-id-5 div.sk-parallel {display: flex;align-items: stretch;justify-content: center;background-color: white;position: relative;}#sk-container-id-5 div.sk-item::before, #sk-container-id-5 div.sk-parallel-item::before {content: \"\";position: absolute;border-left: 1px solid gray;box-sizing: border-box;top: 0;bottom: 0;left: 50%;z-index: -1;}#sk-container-id-5 div.sk-parallel-item {display: flex;flex-direction: column;z-index: 1;position: relative;background-color: white;}#sk-container-id-5 div.sk-parallel-item:first-child::after {align-self: flex-end;width: 50%;}#sk-container-id-5 div.sk-parallel-item:last-child::after {align-self: flex-start;width: 50%;}#sk-container-id-5 div.sk-parallel-item:only-child::after {width: 0;}#sk-container-id-5 div.sk-dashed-wrapped {border: 1px dashed gray;margin: 0 0.4em 0.5em 0.4em;box-sizing: border-box;padding-bottom: 0.4em;background-color: white;}#sk-container-id-5 div.sk-label label {font-family: monospace;font-weight: bold;display: inline-block;line-height: 1.2em;}#sk-container-id-5 div.sk-label-container {text-align: center;}#sk-container-id-5 div.sk-container {/* jupyter's `normalize.less` sets `[hidden] { display: none; }` but bootstrap.min.css set `[hidden] { display: none !important; }` so we also need the `!important` here to be able to override the default hidden behavior on the sphinx rendered scikit-learn.org. See: https://github.com/scikit-learn/scikit-learn/issues/21755 */display: inline-block !important;position: relative;}#sk-container-id-5 div.sk-text-repr-fallback {display: none;}</style><div id=\"sk-container-id-5\" class=\"sk-top-container\"><div class=\"sk-text-repr-fallback\"><pre>SVC()</pre><b>In a Jupyter environment, please rerun this cell to show the HTML representation or trust the notebook. <br />On GitHub, the HTML representation is unable to render, please try loading this page with nbviewer.org.</b></div><div class=\"sk-container\" hidden><div class=\"sk-item\"><div class=\"sk-estimator sk-toggleable\"><input class=\"sk-toggleable__control sk-hidden--visually\" id=\"sk-estimator-id-5\" type=\"checkbox\" checked><label for=\"sk-estimator-id-5\" class=\"sk-toggleable__label sk-toggleable__label-arrow\">SVC</label><div class=\"sk-toggleable__content\"><pre>SVC()</pre></div></div></div></div></div>"
            ]
          },
          "metadata": {},
          "execution_count": 29
        }
      ]
    },
    {
      "cell_type": "code",
      "source": [
        "clf_sigmoid = SVC(kernel=\"sigmoid\")\n",
        "clf_sigmoid.fit(X_train, y_train)"
      ],
      "metadata": {
        "id": "Uq3PJT5YmbX1",
        "outputId": "4a1c8cfe-05c1-442a-d6e1-17494898405e",
        "colab": {
          "base_uri": "https://localhost:8080/",
          "height": 75
        }
      },
      "execution_count": 30,
      "outputs": [
        {
          "output_type": "execute_result",
          "data": {
            "text/plain": [
              "SVC(kernel='sigmoid')"
            ],
            "text/html": [
              "<style>#sk-container-id-6 {color: black;background-color: white;}#sk-container-id-6 pre{padding: 0;}#sk-container-id-6 div.sk-toggleable {background-color: white;}#sk-container-id-6 label.sk-toggleable__label {cursor: pointer;display: block;width: 100%;margin-bottom: 0;padding: 0.3em;box-sizing: border-box;text-align: center;}#sk-container-id-6 label.sk-toggleable__label-arrow:before {content: \"▸\";float: left;margin-right: 0.25em;color: #696969;}#sk-container-id-6 label.sk-toggleable__label-arrow:hover:before {color: black;}#sk-container-id-6 div.sk-estimator:hover label.sk-toggleable__label-arrow:before {color: black;}#sk-container-id-6 div.sk-toggleable__content {max-height: 0;max-width: 0;overflow: hidden;text-align: left;background-color: #f0f8ff;}#sk-container-id-6 div.sk-toggleable__content pre {margin: 0.2em;color: black;border-radius: 0.25em;background-color: #f0f8ff;}#sk-container-id-6 input.sk-toggleable__control:checked~div.sk-toggleable__content {max-height: 200px;max-width: 100%;overflow: auto;}#sk-container-id-6 input.sk-toggleable__control:checked~label.sk-toggleable__label-arrow:before {content: \"▾\";}#sk-container-id-6 div.sk-estimator input.sk-toggleable__control:checked~label.sk-toggleable__label {background-color: #d4ebff;}#sk-container-id-6 div.sk-label input.sk-toggleable__control:checked~label.sk-toggleable__label {background-color: #d4ebff;}#sk-container-id-6 input.sk-hidden--visually {border: 0;clip: rect(1px 1px 1px 1px);clip: rect(1px, 1px, 1px, 1px);height: 1px;margin: -1px;overflow: hidden;padding: 0;position: absolute;width: 1px;}#sk-container-id-6 div.sk-estimator {font-family: monospace;background-color: #f0f8ff;border: 1px dotted black;border-radius: 0.25em;box-sizing: border-box;margin-bottom: 0.5em;}#sk-container-id-6 div.sk-estimator:hover {background-color: #d4ebff;}#sk-container-id-6 div.sk-parallel-item::after {content: \"\";width: 100%;border-bottom: 1px solid gray;flex-grow: 1;}#sk-container-id-6 div.sk-label:hover label.sk-toggleable__label {background-color: #d4ebff;}#sk-container-id-6 div.sk-serial::before {content: \"\";position: absolute;border-left: 1px solid gray;box-sizing: border-box;top: 0;bottom: 0;left: 50%;z-index: 0;}#sk-container-id-6 div.sk-serial {display: flex;flex-direction: column;align-items: center;background-color: white;padding-right: 0.2em;padding-left: 0.2em;position: relative;}#sk-container-id-6 div.sk-item {position: relative;z-index: 1;}#sk-container-id-6 div.sk-parallel {display: flex;align-items: stretch;justify-content: center;background-color: white;position: relative;}#sk-container-id-6 div.sk-item::before, #sk-container-id-6 div.sk-parallel-item::before {content: \"\";position: absolute;border-left: 1px solid gray;box-sizing: border-box;top: 0;bottom: 0;left: 50%;z-index: -1;}#sk-container-id-6 div.sk-parallel-item {display: flex;flex-direction: column;z-index: 1;position: relative;background-color: white;}#sk-container-id-6 div.sk-parallel-item:first-child::after {align-self: flex-end;width: 50%;}#sk-container-id-6 div.sk-parallel-item:last-child::after {align-self: flex-start;width: 50%;}#sk-container-id-6 div.sk-parallel-item:only-child::after {width: 0;}#sk-container-id-6 div.sk-dashed-wrapped {border: 1px dashed gray;margin: 0 0.4em 0.5em 0.4em;box-sizing: border-box;padding-bottom: 0.4em;background-color: white;}#sk-container-id-6 div.sk-label label {font-family: monospace;font-weight: bold;display: inline-block;line-height: 1.2em;}#sk-container-id-6 div.sk-label-container {text-align: center;}#sk-container-id-6 div.sk-container {/* jupyter's `normalize.less` sets `[hidden] { display: none; }` but bootstrap.min.css set `[hidden] { display: none !important; }` so we also need the `!important` here to be able to override the default hidden behavior on the sphinx rendered scikit-learn.org. See: https://github.com/scikit-learn/scikit-learn/issues/21755 */display: inline-block !important;position: relative;}#sk-container-id-6 div.sk-text-repr-fallback {display: none;}</style><div id=\"sk-container-id-6\" class=\"sk-top-container\"><div class=\"sk-text-repr-fallback\"><pre>SVC(kernel=&#x27;sigmoid&#x27;)</pre><b>In a Jupyter environment, please rerun this cell to show the HTML representation or trust the notebook. <br />On GitHub, the HTML representation is unable to render, please try loading this page with nbviewer.org.</b></div><div class=\"sk-container\" hidden><div class=\"sk-item\"><div class=\"sk-estimator sk-toggleable\"><input class=\"sk-toggleable__control sk-hidden--visually\" id=\"sk-estimator-id-6\" type=\"checkbox\" checked><label for=\"sk-estimator-id-6\" class=\"sk-toggleable__label sk-toggleable__label-arrow\">SVC</label><div class=\"sk-toggleable__content\"><pre>SVC(kernel=&#x27;sigmoid&#x27;)</pre></div></div></div></div></div>"
            ]
          },
          "metadata": {},
          "execution_count": 30
        }
      ]
    },
    {
      "cell_type": "code",
      "source": [
        "eval_rbf = cross_val_score(clf_rbf, X_train, y_train, cv=5)"
      ],
      "metadata": {
        "id": "QI0PjJ6nmfW6"
      },
      "execution_count": 31,
      "outputs": []
    },
    {
      "cell_type": "code",
      "source": [
        "eval_sigmoid = cross_val_score(clf_sigmoid, X_train, y_train, cv=5)"
      ],
      "metadata": {
        "id": "13oQNPdammAt"
      },
      "execution_count": 32,
      "outputs": []
    },
    {
      "cell_type": "code",
      "source": [
        "print(\"Test Scores by Kernel:\")\n",
        "print(f\"Linear: {eval.mean()}\")\n",
        "print(f\"RBF: {eval_rbf.mean()}\")\n",
        "print(f\"Sigmoid: {eval_sigmoid.mean()}\")"
      ],
      "metadata": {
        "id": "nI4FWlo6mtIM",
        "outputId": "18bab932-ef9b-4260-ffab-adc49fdc0bfa",
        "colab": {
          "base_uri": "https://localhost:8080/"
        }
      },
      "execution_count": 34,
      "outputs": [
        {
          "output_type": "stream",
          "name": "stdout",
          "text": [
            "Test Scores by Kernel:\n",
            "Linear: 0.7311055562418178\n",
            "RBF: 0.7528776983409878\n",
            "Sigmoid: 0.6608523388153611\n"
          ]
        }
      ]
    },
    {
      "cell_type": "markdown",
      "source": [
        "The RBF kernel achieved the best results with a ~75.288% mean score between the 5 folds."
      ],
      "metadata": {
        "id": "ldEyUXSQo3eu"
      }
    },
    {
      "cell_type": "markdown",
      "source": [
        "## Evaluating performance on test set\n",
        "After selecting the RBF kernel based on the k-fold cross validation results, the model can be tested using the test set."
      ],
      "metadata": {
        "id": "bDUHB1DHnt72"
      }
    },
    {
      "cell_type": "code",
      "source": [
        "y_pred = clf_rbf.predict(X_test)"
      ],
      "metadata": {
        "id": "-8me8WEjoK4m"
      },
      "execution_count": 35,
      "outputs": []
    },
    {
      "cell_type": "markdown",
      "source": [
        "Metrics are computed for the predictions made on the test set.\n",
        "* **Accuracy**: The ratio of correctly predicted instances to the total\n",
        "instances in the dataset.\n",
        "* **Precision**: The ratio of correctly predicted positive observations to the total predicted positives.\n",
        "* **Recall**: The ratio of correctly predicted positive observations to the total actual positives."
      ],
      "metadata": {
        "id": "dAkzmY09sGrW"
      }
    },
    {
      "cell_type": "code",
      "source": [
        "from sklearn import metrics\n",
        "\n",
        "print(\"Accuracy:\",metrics.accuracy_score(y_test, y_pred))\n",
        "print(\"Precision:\",metrics.precision_score(y_test, y_pred))\n",
        "print(\"Recall:\",metrics.recall_score(y_test, y_pred))"
      ],
      "metadata": {
        "id": "yyBLLC3coocc",
        "outputId": "3388509f-9495-4463-f2b4-b5681f7db22a",
        "colab": {
          "base_uri": "https://localhost:8080/"
        }
      },
      "execution_count": 36,
      "outputs": [
        {
          "output_type": "stream",
          "name": "stdout",
          "text": [
            "Accuracy: 0.7524688982942157\n",
            "Precision: 0.6763545030498744\n",
            "Recall: 0.6470992104359766\n"
          ]
        }
      ]
    },
    {
      "cell_type": "markdown",
      "source": [
        "## Conclusion\n",
        "The model was able to predict the correct result for the test set with ~75.25% accuracy. The accuracy rate indicates that the model was able to make correct predictions for the majority of the time, demonstrating somewhat good performance. The precision rate shows that when the model predicts a positive result, it is likely to be correct. Recall measures the model's ability to identify all relevant instances, minimizing false negatives. The performance in all aspects shows that the model is working as intended for the majority of the time.  <br><br>\n",
        "While the model is correctly predicting smoking status about 75% of the time, it's important to consider these results in the context of the medical field. A false positive or negative result could be the difference between someone receiving treatment or not for algorithms used in healthcare, so higher accuracy is necessary. Better performance may be achieved with more extensive fine tuning. The `C` (regularization) and `gamma` values could also be adjusted for optimization. I chose to limit my fine-tuning to just kernel for this assignment due to computational and time constraints, as using scikit-learn's `GridSearchCV` took more processing power than I had available, even with the use of Google Colab. Other types of models may also provide better performance."
      ],
      "metadata": {
        "id": "0ae6joVVrE2R"
      }
    }
  ],
  "metadata": {
    "kernelspec": {
      "display_name": "base",
      "language": "python",
      "name": "python3"
    },
    "language_info": {
      "codemirror_mode": {
        "name": "ipython",
        "version": 3
      },
      "file_extension": ".py",
      "mimetype": "text/x-python",
      "name": "python",
      "nbconvert_exporter": "python",
      "pygments_lexer": "ipython3",
      "version": "3.11.4"
    },
    "colab": {
      "provenance": []
    }
  },
  "nbformat": 4,
  "nbformat_minor": 0
}